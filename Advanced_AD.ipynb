{
 "cells": [
  {
   "cell_type": "markdown",
   "id": "44f94760-55c5-472f-b26f-36b636eacc4e",
   "metadata": {},
   "source": [
    "# Exercise 4: Advanced AD with Graph Neural Networks And Graph Auto Encoders"
   ]
  },
  {
   "cell_type": "code",
   "execution_count": null,
   "id": "1d9aca98-e330-4c1b-a52b-8436a9d482f5",
   "metadata": {},
   "outputs": [],
   "source": []
  }
 ],
 "metadata": {
  "kernelspec": {
   "display_name": "Python 3 (ipykernel)",
   "language": "python",
   "name": "python3"
  },
  "language_info": {
   "codemirror_mode": {
    "name": "ipython",
    "version": 3
   },
   "file_extension": ".py",
   "mimetype": "text/x-python",
   "name": "python",
   "nbconvert_exporter": "python",
   "pygments_lexer": "ipython3",
   "version": "3.9.21"
  }
 },
 "nbformat": 4,
 "nbformat_minor": 5
}
